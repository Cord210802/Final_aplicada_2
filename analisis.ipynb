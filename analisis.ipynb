{
 "cells": [
  {
   "cell_type": "markdown",
   "id": "dea10b0e",
   "metadata": {},
   "source": [
    "# Analisis de duracion de partidos de tenis\n",
    "## Estadistica aplicada 2\n",
    "### Integrantes\n",
    "- Juan Pablo Cordero\n",
    "- Jaime Uria\n",
    "- Gerardo Guerrero"
   ]
  },
  {
   "cell_type": "markdown",
   "id": "15f23fd8",
   "metadata": {},
   "source": [
    "# Importamos las librerías necesarias\n"
   ]
  },
  {
   "cell_type": "code",
   "execution_count": 71,
   "id": "1479a3c3",
   "metadata": {},
   "outputs": [],
   "source": [
    "import pandas as pd\n",
    "import numpy as np\n",
    "from sklearn.model_selection import train_test_split\n",
    "from sklearn.linear_model import LinearRegression\n",
    "from sklearn.metrics import mean_squared_error, r2_score\n",
    "\n",
    "# 1) Load the CSV\n",
    "matches = pd.read_csv(\"atp_data/atp_matches_till_2022.csv\")\n"
   ]
  },
  {
   "cell_type": "markdown",
   "id": "fbfae767",
   "metadata": {},
   "source": [
    "# Vemos los valores faltantes que se ven en el DF"
   ]
  },
  {
   "cell_type": "code",
   "execution_count": 72,
   "id": "c29aeca5",
   "metadata": {},
   "outputs": [
    {
     "name": "stdout",
     "output_type": "stream",
     "text": [
      "count    89511.000000\n",
      "mean       103.497403\n",
      "std         39.365772\n",
      "min          0.000000\n",
      "25%         75.000000\n",
      "50%         96.000000\n",
      "75%        125.000000\n",
      "max       1146.000000\n",
      "Name: minutes, dtype: float64\n",
      "98650\n",
      "Percentage of NaN values in 'minutes': 52.43%\n",
      "Total records (including NaN): 188161\n"
     ]
    }
   ],
   "source": [
    "# 2) Inspect and clean\n",
    "print(matches['minutes'].describe())      # look at distribution & missing\n",
    "print(matches['minutes'].isna().sum())  # check for missing values\n",
    "nan_percentage = matches['minutes'].isna().mean() * 100\n",
    "print(f\"Percentage of NaN values in 'minutes': {nan_percentage:.2f}%\")  # check for missing values\n",
    "# Method 1: Get total length of the DataFrame or column\n",
    "total_count = len(matches['minutes'])\n",
    "print(f\"Total records (including NaN): {total_count}\")\n"
   ]
  },
  {
   "cell_type": "markdown",
   "id": "87f20488",
   "metadata": {},
   "source": [
    "# Tiramos los partidos que no tienen duracion"
   ]
  },
  {
   "cell_type": "code",
   "execution_count": 73,
   "id": "14e92723",
   "metadata": {},
   "outputs": [],
   "source": [
    "df = matches.dropna(subset=['minutes'])   # drop matches without a duration"
   ]
  },
  {
   "cell_type": "markdown",
   "id": "0ffed0d9",
   "metadata": {},
   "source": [
    "# Variables del Dataset de Tenis - Descripción\n",
    "\n",
    "| Variable | Descripción | Tipo | Valores |\n",
    "|----------|-------------|------|---------|\n",
    "| `tourney_id` | Identificador único del torneo | String | Alfanumérico |\n",
    "| `tourney_name` | Nombre del torneo | String | Texto |\n",
    "| `surface` | Superficie en la que se juega el partido | Categórica | Grass, Carpet, Clay, Hard |\n",
    "| `draw_size` | Tamaño del cuadro del torneo | Numérico | Entero (32, 64, 128, etc.) |\n",
    "| `tourney_level` | Nivel del torneo | Categórica | G = Grand Slams<br>M = Masters 1000<br>A = Otros eventos ATP Tour<br>C = Challengers<br>S = Satellites/ITFs<br>F = Finales de temporada<br>D = Copa Davis |\n",
    "| `tourney_date` | Fecha de inicio del torneo | Fecha | YYYYMMDD |\n",
    "| `match_num` | Número de partido en un torneo específico | Numérico | Entero |\n",
    "| `id` | Identificador del jugador | String | Alfanumérico |\n",
    "| `seed` | Cabeza de serie del jugador en el torneo | Numérico | Entero o NaN |\n",
    "| `entry` | Forma de entrada al torneo | Categórica | WC = Wildcard<br>Q = Clasificado<br>LL = Lucky loser<br>PR = Protected ranking<br>SE = Special Exempt<br>ALT = Alternate player |\n",
    "| `name` | Nombre del jugador | String | Texto |\n",
    "| `hand` | Mano dominante del jugador | Categórica | R = Diestro<br>L = Zurdo |\n",
    "| `ht` | Altura del jugador | Numérico | Entero (en cm) |\n",
    "| `IOC` | País de origen (código olímpico) | Categórica | Códigos de 3 letras |\n",
    "| `age` | Edad del jugador | Numérico | Decimal |\n",
    "| `score` | Resultado final del partido | String | Texto formateado |\n",
    "| `best_of` | Número máximo de sets en el partido | Numérico | 3 o 5 |\n",
    "| `round` | Ronda del torneo | Categórica | R128 = Ronda de 128<br>R64 = Ronda de 64<br>R32 = Ronda de 32<br>R16 = Octavos de final<br>QF = Cuartos de final<br>SF = Semifinales<br>F = Final<br>RR = Round Robin<br>ER = Early Round<br>BR = Bronze medal match |\n",
    "| `minutes` | Duración del partido en minutos | Numérico | Entero |\n",
    "| `ace` | Número de aces en el partido | Numérico | Entero |\n",
    "| `df` | Dobles faltas | Numérico | Entero |\n",
    "| `svpt` | Puntos de servicio | Numérico | Entero |\n",
    "| `1stin` | Primer servicio dentro (cantidad) | Numérico | Entero |\n",
    "| `1stWon` | Puntos ganados con primer servicio | Numérico | Entero |\n",
    "| `2ndWon` | Puntos ganados con segundo servicio | Numérico | Entero |\n",
    "| `SvGms` | Número de juegos al servicio | Numérico | Entero |\n",
    "| `bpSaved` | Puntos de break salvados | Numérico | Entero |\n",
    "| `bpFaced` | Puntos de break enfrentados | Numérico | Entero |\n",
    "\n",
    "## Notas Adicionales:\n",
    "\n",
    "- Para las estadísticas de partido (ace, df, svpt, etc.), hay dos versiones de cada variable:\n",
    "  - Prefijo `w_` para el ganador del partido (winner)\n",
    "  - Prefijo `l_` para el perdedor del partido (loser)"
   ]
  },
  {
   "cell_type": "markdown",
   "id": "2be34023",
   "metadata": {},
   "source": [
    "# Nota:\n",
    "### Solo nos vamos a centrar en los torneos Grand Slams y Masters 1000"
   ]
  },
  {
   "cell_type": "code",
   "execution_count": 74,
   "id": "dbf066b0",
   "metadata": {},
   "outputs": [
    {
     "data": {
      "text/plain": [
       "tourney_level\n",
       "M    16915\n",
       "G    14254\n",
       "Name: count, dtype: int64"
      ]
     },
     "metadata": {},
     "output_type": "display_data"
    }
   ],
   "source": [
    "t_lev = [\"G\", \"M\"]\n",
    "\n",
    "df = df[df['tourney_level'].isin(t_lev)]  # filter for Grand Slam and Masters tournaments\n",
    "display(df['tourney_level'].value_counts())  # check the distribution of tournament levels"
   ]
  },
  {
   "cell_type": "markdown",
   "id": "bdab3096",
   "metadata": {},
   "source": [
    "### Confirmamos que los torneos son Grand Slams y Masters 1000"
   ]
  },
  {
   "cell_type": "code",
   "execution_count": 75,
   "id": "b9fc8a34",
   "metadata": {},
   "outputs": [
    {
     "data": {
      "text/plain": [
       "['australian open',\n",
       " 'canada masters',\n",
       " 'cincinnati masters',\n",
       " 'essen masters',\n",
       " 'hamburg masters',\n",
       " 'indian wells masters',\n",
       " 'madrid masters',\n",
       " 'miami masters',\n",
       " 'monte carlo masters',\n",
       " 'paris masters',\n",
       " 'roland garros',\n",
       " 'rome masters',\n",
       " 'shanghai masters',\n",
       " 'stockholm masters',\n",
       " 'stuttgart masters',\n",
       " 'us open',\n",
       " 'wimbledon']"
      ]
     },
     "execution_count": 75,
     "metadata": {},
     "output_type": "execute_result"
    }
   ],
   "source": [
    "# convert all tournament names to lowercase and strip whitespace\n",
    "df['tourney_name'] = df['tourney_name'].str.lower().str.strip()\n",
    "\n",
    "# verify\n",
    "sorted(df['tourney_name'].unique())\n"
   ]
  },
  {
   "cell_type": "markdown",
   "id": "fe443473",
   "metadata": {},
   "source": [
    "### Poner la fecha en formato correcto"
   ]
  },
  {
   "cell_type": "code",
   "execution_count": 76,
   "id": "10cd0593",
   "metadata": {},
   "outputs": [
    {
     "name": "stdout",
     "output_type": "stream",
     "text": [
      "datetime64[ns]\n",
      "85972   1991-01-14\n",
      "85973   1991-01-14\n",
      "85974   1991-01-14\n",
      "85975   1991-01-14\n",
      "85976   1991-01-14\n",
      "Name: tourney_date, dtype: datetime64[ns]\n"
     ]
    }
   ],
   "source": [
    "# if tourney_date is int, first convert to string\n",
    "df['tourney_date'] = pd.to_datetime(\n",
    "    df['tourney_date'].astype(str),\n",
    "    format='%Y%m%d'\n",
    ")\n",
    "# now verify\n",
    "print(df['tourney_date'].dtype)\n",
    "print(df['tourney_date'].head())\n"
   ]
  },
  {
   "cell_type": "code",
   "execution_count": 77,
   "id": "a155043e",
   "metadata": {},
   "outputs": [
    {
     "data": {
      "application/vnd.microsoft.datawrangler.viewer.v0+json": {
       "columns": [
        {
         "name": "index",
         "rawType": "int64",
         "type": "integer"
        },
        {
         "name": "tourney_id",
         "rawType": "object",
         "type": "string"
        },
        {
         "name": "tourney_name",
         "rawType": "object",
         "type": "string"
        },
        {
         "name": "surface",
         "rawType": "object",
         "type": "string"
        },
        {
         "name": "draw_size",
         "rawType": "int64",
         "type": "integer"
        },
        {
         "name": "tourney_level",
         "rawType": "object",
         "type": "string"
        },
        {
         "name": "tourney_date",
         "rawType": "datetime64[ns]",
         "type": "datetime"
        },
        {
         "name": "winner_id",
         "rawType": "int64",
         "type": "integer"
        },
        {
         "name": "winner_seed",
         "rawType": "float64",
         "type": "float"
        },
        {
         "name": "winner_name",
         "rawType": "object",
         "type": "string"
        },
        {
         "name": "winner_hand",
         "rawType": "object",
         "type": "string"
        },
        {
         "name": "winner_ht",
         "rawType": "float64",
         "type": "float"
        },
        {
         "name": "winner_age",
         "rawType": "float64",
         "type": "float"
        },
        {
         "name": "loser_id",
         "rawType": "int64",
         "type": "integer"
        },
        {
         "name": "loser_seed",
         "rawType": "float64",
         "type": "float"
        },
        {
         "name": "loser_name",
         "rawType": "object",
         "type": "string"
        },
        {
         "name": "loser_hand",
         "rawType": "object",
         "type": "string"
        },
        {
         "name": "loser_ht",
         "rawType": "float64",
         "type": "float"
        },
        {
         "name": "loser_age",
         "rawType": "float64",
         "type": "float"
        },
        {
         "name": "score",
         "rawType": "object",
         "type": "string"
        },
        {
         "name": "best_of",
         "rawType": "int64",
         "type": "integer"
        },
        {
         "name": "round",
         "rawType": "object",
         "type": "string"
        },
        {
         "name": "minutes",
         "rawType": "float64",
         "type": "float"
        },
        {
         "name": "w_ace",
         "rawType": "float64",
         "type": "float"
        },
        {
         "name": "w_df",
         "rawType": "float64",
         "type": "float"
        },
        {
         "name": "w_svpt",
         "rawType": "float64",
         "type": "float"
        },
        {
         "name": "w_1stIn",
         "rawType": "float64",
         "type": "float"
        },
        {
         "name": "w_1stWon",
         "rawType": "float64",
         "type": "float"
        },
        {
         "name": "w_2ndWon",
         "rawType": "float64",
         "type": "float"
        },
        {
         "name": "w_SvGms",
         "rawType": "float64",
         "type": "float"
        },
        {
         "name": "w_bpSaved",
         "rawType": "float64",
         "type": "float"
        },
        {
         "name": "w_bpFaced",
         "rawType": "float64",
         "type": "float"
        },
        {
         "name": "l_ace",
         "rawType": "float64",
         "type": "float"
        },
        {
         "name": "l_df",
         "rawType": "float64",
         "type": "float"
        },
        {
         "name": "l_svpt",
         "rawType": "float64",
         "type": "float"
        },
        {
         "name": "l_1stIn",
         "rawType": "float64",
         "type": "float"
        },
        {
         "name": "l_1stWon",
         "rawType": "float64",
         "type": "float"
        },
        {
         "name": "l_2ndWon",
         "rawType": "float64",
         "type": "float"
        },
        {
         "name": "l_SvGms",
         "rawType": "float64",
         "type": "float"
        },
        {
         "name": "l_bpSaved",
         "rawType": "float64",
         "type": "float"
        },
        {
         "name": "l_bpFaced",
         "rawType": "float64",
         "type": "float"
        },
        {
         "name": "winner_rank",
         "rawType": "float64",
         "type": "float"
        },
        {
         "name": "winner_rank_points",
         "rawType": "float64",
         "type": "float"
        },
        {
         "name": "loser_rank",
         "rawType": "float64",
         "type": "float"
        },
        {
         "name": "loser_rank_points",
         "rawType": "float64",
         "type": "float"
        }
       ],
       "conversionMethod": "pd.DataFrame",
       "ref": "a0681819-a32a-40ec-99c8-aa4872c5805e",
       "rows": [
        [
         "85972",
         "1991-580",
         "australian open",
         "Hard",
         "128",
         "G",
         "1991-01-14 00:00:00",
         "101222",
         "1.0",
         "Stefan Edberg",
         "R",
         "188.0",
         "24.9",
         "101432",
         null,
         "Dimitri Poliakov",
         "R",
         "183.0",
         "22.9",
         "6-1 7-6(6) 6-2",
         "5",
         "R128",
         "114.0",
         "2.0",
         "3.0",
         "94.0",
         "71.0",
         "53.0",
         "9.0",
         "13.0",
         "6.0",
         "7.0",
         "1.0",
         "2.0",
         "104.0",
         "72.0",
         "43.0",
         "11.0",
         "14.0",
         "4.0",
         "10.0",
         "1.0",
         "3889.0",
         "162.0",
         "202.0"
        ],
        [
         "85973",
         "1991-580",
         "australian open",
         "Hard",
         "128",
         "G",
         "1991-01-14 00:00:00",
         "100995",
         null,
         "Eduardo Masso",
         "L",
         "178.0",
         "27.0",
         "101242",
         null,
         "Brad Pearce",
         "R",
         "175.0",
         "24.8",
         "6-7(4) 6-1 6-7(6) 6-3 8-6",
         "5",
         "R128",
         "220.0",
         "4.0",
         "2.0",
         "186.0",
         "145.0",
         "89.0",
         "27.0",
         "28.0",
         "8.0",
         "15.0",
         "1.0",
         "5.0",
         "177.0",
         "110.0",
         "67.0",
         "29.0",
         "26.0",
         "7.0",
         "18.0",
         "124.0",
         "278.0",
         "81.0",
         "453.0"
        ],
        [
         "85974",
         "1991-580",
         "australian open",
         "Hard",
         "128",
         "G",
         "1991-01-14 00:00:00",
         "101138",
         null,
         "Pat Cash",
         "R",
         "183.0",
         "25.6",
         "101120",
         null,
         "Karel Novacek",
         "R",
         "190.0",
         "25.7",
         "6-2 6-4 6-1",
         "5",
         "R128",
         "110.0",
         "2.0",
         "3.0",
         "82.0",
         "54.0",
         "36.0",
         "18.0",
         "13.0",
         "5.0",
         "7.0",
         "1.0",
         "1.0",
         "87.0",
         "59.0",
         "31.0",
         "12.0",
         "12.0",
         "9.0",
         "16.0",
         "84.0",
         "432.0",
         "32.0",
         "845.0"
        ],
        [
         "85975",
         "1991-580",
         "australian open",
         "Hard",
         "128",
         "G",
         "1991-01-14 00:00:00",
         "100870",
         null,
         "Christo Van Rensburg",
         "R",
         "185.0",
         "28.2",
         "101256",
         null,
         "Mark Kratzmann",
         "L",
         "178.0",
         "24.6",
         "6-3 6-1 7-5",
         "5",
         "R128",
         "117.0",
         "4.0",
         "3.0",
         "76.0",
         "44.0",
         "33.0",
         "22.0",
         "14.0",
         "2.0",
         "4.0",
         "2.0",
         "4.0",
         "101.0",
         "49.0",
         "26.0",
         "26.0",
         "14.0",
         "8.0",
         "15.0",
         "59.0",
         "527.0",
         "82.0",
         "448.0"
        ],
        [
         "85976",
         "1991-580",
         "australian open",
         "Hard",
         "128",
         "G",
         "1991-01-14 00:00:00",
         "101731",
         null,
         "Nuno Marques",
         "L",
         "190.0",
         "20.7",
         "101416",
         null,
         "Joao Cunha Silva",
         "R",
         "173.0",
         "23.1",
         "4-6 6-4 1-6 6-3 6-4",
         "5",
         "R128",
         "178.0",
         "1.0",
         "2.0",
         "133.0",
         "100.0",
         "73.0",
         "16.0",
         "23.0",
         "7.0",
         "11.0",
         "2.0",
         "3.0",
         "126.0",
         "77.0",
         "57.0",
         "28.0",
         "23.0",
         "9.0",
         "13.0",
         "104.0",
         "340.0",
         "116.0",
         "299.0"
        ]
       ],
       "shape": {
        "columns": 44,
        "rows": 5
       }
      },
      "text/html": [
       "<div>\n",
       "<style scoped>\n",
       "    .dataframe tbody tr th:only-of-type {\n",
       "        vertical-align: middle;\n",
       "    }\n",
       "\n",
       "    .dataframe tbody tr th {\n",
       "        vertical-align: top;\n",
       "    }\n",
       "\n",
       "    .dataframe thead th {\n",
       "        text-align: right;\n",
       "    }\n",
       "</style>\n",
       "<table border=\"1\" class=\"dataframe\">\n",
       "  <thead>\n",
       "    <tr style=\"text-align: right;\">\n",
       "      <th></th>\n",
       "      <th>tourney_id</th>\n",
       "      <th>tourney_name</th>\n",
       "      <th>surface</th>\n",
       "      <th>draw_size</th>\n",
       "      <th>tourney_level</th>\n",
       "      <th>tourney_date</th>\n",
       "      <th>winner_id</th>\n",
       "      <th>winner_seed</th>\n",
       "      <th>winner_name</th>\n",
       "      <th>winner_hand</th>\n",
       "      <th>...</th>\n",
       "      <th>l_1stIn</th>\n",
       "      <th>l_1stWon</th>\n",
       "      <th>l_2ndWon</th>\n",
       "      <th>l_SvGms</th>\n",
       "      <th>l_bpSaved</th>\n",
       "      <th>l_bpFaced</th>\n",
       "      <th>winner_rank</th>\n",
       "      <th>winner_rank_points</th>\n",
       "      <th>loser_rank</th>\n",
       "      <th>loser_rank_points</th>\n",
       "    </tr>\n",
       "  </thead>\n",
       "  <tbody>\n",
       "    <tr>\n",
       "      <th>85972</th>\n",
       "      <td>1991-580</td>\n",
       "      <td>australian open</td>\n",
       "      <td>Hard</td>\n",
       "      <td>128</td>\n",
       "      <td>G</td>\n",
       "      <td>1991-01-14</td>\n",
       "      <td>101222</td>\n",
       "      <td>1.0</td>\n",
       "      <td>Stefan Edberg</td>\n",
       "      <td>R</td>\n",
       "      <td>...</td>\n",
       "      <td>72.0</td>\n",
       "      <td>43.0</td>\n",
       "      <td>11.0</td>\n",
       "      <td>14.0</td>\n",
       "      <td>4.0</td>\n",
       "      <td>10.0</td>\n",
       "      <td>1.0</td>\n",
       "      <td>3889.0</td>\n",
       "      <td>162.0</td>\n",
       "      <td>202.0</td>\n",
       "    </tr>\n",
       "    <tr>\n",
       "      <th>85973</th>\n",
       "      <td>1991-580</td>\n",
       "      <td>australian open</td>\n",
       "      <td>Hard</td>\n",
       "      <td>128</td>\n",
       "      <td>G</td>\n",
       "      <td>1991-01-14</td>\n",
       "      <td>100995</td>\n",
       "      <td>NaN</td>\n",
       "      <td>Eduardo Masso</td>\n",
       "      <td>L</td>\n",
       "      <td>...</td>\n",
       "      <td>110.0</td>\n",
       "      <td>67.0</td>\n",
       "      <td>29.0</td>\n",
       "      <td>26.0</td>\n",
       "      <td>7.0</td>\n",
       "      <td>18.0</td>\n",
       "      <td>124.0</td>\n",
       "      <td>278.0</td>\n",
       "      <td>81.0</td>\n",
       "      <td>453.0</td>\n",
       "    </tr>\n",
       "    <tr>\n",
       "      <th>85974</th>\n",
       "      <td>1991-580</td>\n",
       "      <td>australian open</td>\n",
       "      <td>Hard</td>\n",
       "      <td>128</td>\n",
       "      <td>G</td>\n",
       "      <td>1991-01-14</td>\n",
       "      <td>101138</td>\n",
       "      <td>NaN</td>\n",
       "      <td>Pat Cash</td>\n",
       "      <td>R</td>\n",
       "      <td>...</td>\n",
       "      <td>59.0</td>\n",
       "      <td>31.0</td>\n",
       "      <td>12.0</td>\n",
       "      <td>12.0</td>\n",
       "      <td>9.0</td>\n",
       "      <td>16.0</td>\n",
       "      <td>84.0</td>\n",
       "      <td>432.0</td>\n",
       "      <td>32.0</td>\n",
       "      <td>845.0</td>\n",
       "    </tr>\n",
       "    <tr>\n",
       "      <th>85975</th>\n",
       "      <td>1991-580</td>\n",
       "      <td>australian open</td>\n",
       "      <td>Hard</td>\n",
       "      <td>128</td>\n",
       "      <td>G</td>\n",
       "      <td>1991-01-14</td>\n",
       "      <td>100870</td>\n",
       "      <td>NaN</td>\n",
       "      <td>Christo Van Rensburg</td>\n",
       "      <td>R</td>\n",
       "      <td>...</td>\n",
       "      <td>49.0</td>\n",
       "      <td>26.0</td>\n",
       "      <td>26.0</td>\n",
       "      <td>14.0</td>\n",
       "      <td>8.0</td>\n",
       "      <td>15.0</td>\n",
       "      <td>59.0</td>\n",
       "      <td>527.0</td>\n",
       "      <td>82.0</td>\n",
       "      <td>448.0</td>\n",
       "    </tr>\n",
       "    <tr>\n",
       "      <th>85976</th>\n",
       "      <td>1991-580</td>\n",
       "      <td>australian open</td>\n",
       "      <td>Hard</td>\n",
       "      <td>128</td>\n",
       "      <td>G</td>\n",
       "      <td>1991-01-14</td>\n",
       "      <td>101731</td>\n",
       "      <td>NaN</td>\n",
       "      <td>Nuno Marques</td>\n",
       "      <td>L</td>\n",
       "      <td>...</td>\n",
       "      <td>77.0</td>\n",
       "      <td>57.0</td>\n",
       "      <td>28.0</td>\n",
       "      <td>23.0</td>\n",
       "      <td>9.0</td>\n",
       "      <td>13.0</td>\n",
       "      <td>104.0</td>\n",
       "      <td>340.0</td>\n",
       "      <td>116.0</td>\n",
       "      <td>299.0</td>\n",
       "    </tr>\n",
       "  </tbody>\n",
       "</table>\n",
       "<p>5 rows × 44 columns</p>\n",
       "</div>"
      ],
      "text/plain": [
       "      tourney_id     tourney_name surface  draw_size tourney_level  \\\n",
       "85972   1991-580  australian open    Hard        128             G   \n",
       "85973   1991-580  australian open    Hard        128             G   \n",
       "85974   1991-580  australian open    Hard        128             G   \n",
       "85975   1991-580  australian open    Hard        128             G   \n",
       "85976   1991-580  australian open    Hard        128             G   \n",
       "\n",
       "      tourney_date  winner_id  winner_seed           winner_name winner_hand  \\\n",
       "85972   1991-01-14     101222          1.0         Stefan Edberg           R   \n",
       "85973   1991-01-14     100995          NaN         Eduardo Masso           L   \n",
       "85974   1991-01-14     101138          NaN              Pat Cash           R   \n",
       "85975   1991-01-14     100870          NaN  Christo Van Rensburg           R   \n",
       "85976   1991-01-14     101731          NaN          Nuno Marques           L   \n",
       "\n",
       "       ...  l_1stIn  l_1stWon  l_2ndWon  l_SvGms l_bpSaved l_bpFaced  \\\n",
       "85972  ...     72.0      43.0      11.0     14.0       4.0      10.0   \n",
       "85973  ...    110.0      67.0      29.0     26.0       7.0      18.0   \n",
       "85974  ...     59.0      31.0      12.0     12.0       9.0      16.0   \n",
       "85975  ...     49.0      26.0      26.0     14.0       8.0      15.0   \n",
       "85976  ...     77.0      57.0      28.0     23.0       9.0      13.0   \n",
       "\n",
       "       winner_rank  winner_rank_points loser_rank  loser_rank_points  \n",
       "85972          1.0              3889.0      162.0              202.0  \n",
       "85973        124.0               278.0       81.0              453.0  \n",
       "85974         84.0               432.0       32.0              845.0  \n",
       "85975         59.0               527.0       82.0              448.0  \n",
       "85976        104.0               340.0      116.0              299.0  \n",
       "\n",
       "[5 rows x 44 columns]"
      ]
     },
     "metadata": {},
     "output_type": "display_data"
    }
   ],
   "source": [
    "# i want to drop the match_num column \n",
    "df = df.drop(columns=['match_num'])\n",
    "df = df.drop(columns=[\"winner_entry\", \"loser_entry\"])  # drop the entry columns\n",
    "df = df.drop(columns=[\"winner_ioc\", \"loser_ioc\"])  # drop the ioc columns\n",
    "display(df.head())  # check the first few rows of the DataFrame"
   ]
  }
 ],
 "metadata": {
  "kernelspec": {
   "display_name": "myenv",
   "language": "python",
   "name": "python3"
  },
  "language_info": {
   "codemirror_mode": {
    "name": "ipython",
    "version": 3
   },
   "file_extension": ".py",
   "mimetype": "text/x-python",
   "name": "python",
   "nbconvert_exporter": "python",
   "pygments_lexer": "ipython3",
   "version": "3.10.14"
  }
 },
 "nbformat": 4,
 "nbformat_minor": 5
}
